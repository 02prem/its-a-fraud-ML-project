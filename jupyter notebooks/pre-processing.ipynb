{
 "cells": [
  {
   "cell_type": "code",
   "execution_count": 2,
   "metadata": {},
   "outputs": [],
   "source": [
    "import matplotlib.pyplot as plt\n",
    "import numpy as np\n",
    "import pandas as pd\n",
    "import seaborn as sns\n",
    "from sklearn.metrics import f1_score\n",
    "from typing import Counter\n",
    "from sklearn.model_selection import GridSearchCV"
   ]
  },
  {
   "cell_type": "code",
   "execution_count": 3,
   "metadata": {},
   "outputs": [],
   "source": [
    "test = pd.read_csv('test.csv')\n",
    "train = pd.read_csv('train.csv')"
   ]
  },
  {
   "cell_type": "markdown",
   "metadata": {},
   "source": [
    "Combine train and test data for Data Cleaning"
   ]
  },
  {
   "cell_type": "code",
   "execution_count": 5,
   "metadata": {},
   "outputs": [],
   "source": [
    "main_df = pd.concat([test.assign(ind=\"test\"), train.assign(ind=\"train\")])"
   ]
  },
  {
   "cell_type": "code",
   "execution_count": 6,
   "metadata": {},
   "outputs": [
    {
     "data": {
      "text/plain": [
       "(590540, 435)"
      ]
     },
     "execution_count": 6,
     "metadata": {},
     "output_type": "execute_result"
    }
   ],
   "source": [
    "main_df.shape"
   ]
  },
  {
   "cell_type": "code",
   "execution_count": 7,
   "metadata": {},
   "outputs": [
    {
     "data": {
      "text/html": [
       "<div>\n",
       "<style scoped>\n",
       "    .dataframe tbody tr th:only-of-type {\n",
       "        vertical-align: middle;\n",
       "    }\n",
       "\n",
       "    .dataframe tbody tr th {\n",
       "        vertical-align: top;\n",
       "    }\n",
       "\n",
       "    .dataframe thead th {\n",
       "        text-align: right;\n",
       "    }\n",
       "</style>\n",
       "<table border=\"1\" class=\"dataframe\">\n",
       "  <thead>\n",
       "    <tr style=\"text-align: right;\">\n",
       "      <th></th>\n",
       "      <th>TransactionID</th>\n",
       "      <th>TransactionDT</th>\n",
       "      <th>TransactionAmt</th>\n",
       "      <th>ProductCD</th>\n",
       "      <th>card1</th>\n",
       "      <th>card2</th>\n",
       "      <th>card3</th>\n",
       "      <th>card4</th>\n",
       "      <th>card5</th>\n",
       "      <th>card6</th>\n",
       "      <th>...</th>\n",
       "      <th>id_33</th>\n",
       "      <th>id_34</th>\n",
       "      <th>id_35</th>\n",
       "      <th>id_36</th>\n",
       "      <th>id_37</th>\n",
       "      <th>id_38</th>\n",
       "      <th>DeviceType</th>\n",
       "      <th>DeviceInfo</th>\n",
       "      <th>ind</th>\n",
       "      <th>isFraud</th>\n",
       "    </tr>\n",
       "  </thead>\n",
       "  <tbody>\n",
       "    <tr>\n",
       "      <th>0</th>\n",
       "      <td>3460689</td>\n",
       "      <td>12245831</td>\n",
       "      <td>325.000</td>\n",
       "      <td>W</td>\n",
       "      <td>12932</td>\n",
       "      <td>361.0</td>\n",
       "      <td>150.0</td>\n",
       "      <td>visa</td>\n",
       "      <td>226.0</td>\n",
       "      <td>debit</td>\n",
       "      <td>...</td>\n",
       "      <td>NaN</td>\n",
       "      <td>NaN</td>\n",
       "      <td>NaN</td>\n",
       "      <td>NaN</td>\n",
       "      <td>NaN</td>\n",
       "      <td>NaN</td>\n",
       "      <td>NaN</td>\n",
       "      <td>NaN</td>\n",
       "      <td>test</td>\n",
       "      <td>NaN</td>\n",
       "    </tr>\n",
       "    <tr>\n",
       "      <th>1</th>\n",
       "      <td>3415050</td>\n",
       "      <td>10807203</td>\n",
       "      <td>37.257</td>\n",
       "      <td>C</td>\n",
       "      <td>14276</td>\n",
       "      <td>177.0</td>\n",
       "      <td>185.0</td>\n",
       "      <td>mastercard</td>\n",
       "      <td>137.0</td>\n",
       "      <td>credit</td>\n",
       "      <td>...</td>\n",
       "      <td>NaN</td>\n",
       "      <td>NaN</td>\n",
       "      <td>F</td>\n",
       "      <td>F</td>\n",
       "      <td>T</td>\n",
       "      <td>F</td>\n",
       "      <td>mobile</td>\n",
       "      <td>SM-G9600 Build/R16NW</td>\n",
       "      <td>test</td>\n",
       "      <td>NaN</td>\n",
       "    </tr>\n",
       "    <tr>\n",
       "      <th>2</th>\n",
       "      <td>3408682</td>\n",
       "      <td>10685267</td>\n",
       "      <td>100.000</td>\n",
       "      <td>R</td>\n",
       "      <td>16506</td>\n",
       "      <td>554.0</td>\n",
       "      <td>150.0</td>\n",
       "      <td>visa</td>\n",
       "      <td>226.0</td>\n",
       "      <td>credit</td>\n",
       "      <td>...</td>\n",
       "      <td>1536x960</td>\n",
       "      <td>match_status:2</td>\n",
       "      <td>T</td>\n",
       "      <td>F</td>\n",
       "      <td>T</td>\n",
       "      <td>F</td>\n",
       "      <td>desktop</td>\n",
       "      <td>Windows</td>\n",
       "      <td>test</td>\n",
       "      <td>NaN</td>\n",
       "    </tr>\n",
       "    <tr>\n",
       "      <th>3</th>\n",
       "      <td>3389297</td>\n",
       "      <td>10160809</td>\n",
       "      <td>57.950</td>\n",
       "      <td>W</td>\n",
       "      <td>9500</td>\n",
       "      <td>321.0</td>\n",
       "      <td>150.0</td>\n",
       "      <td>visa</td>\n",
       "      <td>226.0</td>\n",
       "      <td>debit</td>\n",
       "      <td>...</td>\n",
       "      <td>NaN</td>\n",
       "      <td>NaN</td>\n",
       "      <td>NaN</td>\n",
       "      <td>NaN</td>\n",
       "      <td>NaN</td>\n",
       "      <td>NaN</td>\n",
       "      <td>NaN</td>\n",
       "      <td>NaN</td>\n",
       "      <td>test</td>\n",
       "      <td>NaN</td>\n",
       "    </tr>\n",
       "    <tr>\n",
       "      <th>4</th>\n",
       "      <td>3366334</td>\n",
       "      <td>9492365</td>\n",
       "      <td>34.258</td>\n",
       "      <td>C</td>\n",
       "      <td>15885</td>\n",
       "      <td>545.0</td>\n",
       "      <td>185.0</td>\n",
       "      <td>visa</td>\n",
       "      <td>138.0</td>\n",
       "      <td>debit</td>\n",
       "      <td>...</td>\n",
       "      <td>NaN</td>\n",
       "      <td>NaN</td>\n",
       "      <td>NaN</td>\n",
       "      <td>NaN</td>\n",
       "      <td>NaN</td>\n",
       "      <td>NaN</td>\n",
       "      <td>NaN</td>\n",
       "      <td>NaN</td>\n",
       "      <td>test</td>\n",
       "      <td>NaN</td>\n",
       "    </tr>\n",
       "  </tbody>\n",
       "</table>\n",
       "<p>5 rows × 435 columns</p>\n",
       "</div>"
      ],
      "text/plain": [
       "   TransactionID  TransactionDT  TransactionAmt ProductCD  card1  card2  \\\n",
       "0        3460689       12245831         325.000         W  12932  361.0   \n",
       "1        3415050       10807203          37.257         C  14276  177.0   \n",
       "2        3408682       10685267         100.000         R  16506  554.0   \n",
       "3        3389297       10160809          57.950         W   9500  321.0   \n",
       "4        3366334        9492365          34.258         C  15885  545.0   \n",
       "\n",
       "   card3       card4  card5   card6  ...     id_33           id_34  id_35  \\\n",
       "0  150.0        visa  226.0   debit  ...       NaN             NaN    NaN   \n",
       "1  185.0  mastercard  137.0  credit  ...       NaN             NaN      F   \n",
       "2  150.0        visa  226.0  credit  ...  1536x960  match_status:2      T   \n",
       "3  150.0        visa  226.0   debit  ...       NaN             NaN    NaN   \n",
       "4  185.0        visa  138.0   debit  ...       NaN             NaN    NaN   \n",
       "\n",
       "   id_36 id_37 id_38  DeviceType            DeviceInfo   ind  isFraud  \n",
       "0    NaN   NaN   NaN         NaN                   NaN  test      NaN  \n",
       "1      F     T     F      mobile  SM-G9600 Build/R16NW  test      NaN  \n",
       "2      F     T     F     desktop               Windows  test      NaN  \n",
       "3    NaN   NaN   NaN         NaN                   NaN  test      NaN  \n",
       "4    NaN   NaN   NaN         NaN                   NaN  test      NaN  \n",
       "\n",
       "[5 rows x 435 columns]"
      ]
     },
     "execution_count": 7,
     "metadata": {},
     "output_type": "execute_result"
    }
   ],
   "source": [
    "main_df.head()"
   ]
  },
  {
   "cell_type": "code",
   "execution_count": 9,
   "metadata": {},
   "outputs": [
    {
     "data": {
      "text/plain": [
       "TransactionID          0\n",
       "TransactionDT          0\n",
       "TransactionAmt         0\n",
       "ProductCD              0\n",
       "card1                  0\n",
       "                   ...  \n",
       "id_38             449555\n",
       "DeviceType        449730\n",
       "DeviceInfo        471874\n",
       "ind                    0\n",
       "isFraud           147635\n",
       "Length: 435, dtype: int64"
      ]
     },
     "execution_count": 9,
     "metadata": {},
     "output_type": "execute_result"
    }
   ],
   "source": [
    "main_df.isna().sum()"
   ]
  },
  {
   "cell_type": "markdown",
   "metadata": {},
   "source": [
    "# Pre-processing"
   ]
  },
  {
   "cell_type": "markdown",
   "metadata": {},
   "source": [
    "### Feature engineering of DeviceInfo"
   ]
  },
  {
   "attachments": {},
   "cell_type": "markdown",
   "metadata": {},
   "source": [
    "Device info contains the brand of device but written in different styles,<br>\n",
    "So we have just created a different features which integrates the same brands written differently. "
   ]
  },
  {
   "cell_type": "code",
   "execution_count": 48,
   "metadata": {},
   "outputs": [],
   "source": [
    "main_df['device_name'] = main_df['DeviceInfo'].str.split('/', expand=True)[0]"
   ]
  },
  {
   "cell_type": "code",
   "execution_count": 49,
   "metadata": {},
   "outputs": [],
   "source": [
    "main_df.loc[main_df['device_name'].str.contains('SM', na=False), 'device_name'] = 'Samsung'\n",
    "main_df.loc[main_df['device_name'].str.contains('SAMSUNG', na=False), 'device_name'] = 'Samsung'\n",
    "main_df.loc[main_df['device_name'].str.contains('GT-', na=False), 'device_name'] = 'Samsung' \n",
    "main_df.loc[main_df['device_name'].str.contains('Moto G', na=False), 'device_name'] = 'Motorola'\n",
    "main_df.loc[main_df['device_name'].str.contains('Moto', na=False), 'device_name'] = 'Motorola'\n",
    "main_df.loc[main_df['device_name'].str.contains('moto', na=False), 'device_name'] = 'Motorola'\n",
    "main_df.loc[main_df['device_name'].str.contains('LG-', na=False), 'device_name'] = 'LG'\n",
    "main_df.loc[main_df['device_name'].str.contains('rv:', na=False), 'device_name'] = 'RV'\n",
    "main_df.loc[main_df['device_name'].str.contains('HUAWEI', na=False), 'device_name'] = 'Huawei'\n",
    "main_df.loc[main_df['device_name'].str.contains('ALE-', na=False), 'device_name'] = 'Huawei'\n",
    "main_df.loc[main_df['device_name'].str.contains('-L', na=False), 'device_name'] = 'Huawei'\n",
    "main_df.loc[main_df['device_name'].str.contains('Blade', na=False), 'device_name'] = 'ZTE'\n",
    "main_df.loc[main_df['device_name'].str.contains('BLADE', na=False), 'device_name'] = 'ZTE'\n",
    "main_df.loc[main_df['device_name'].str.contains('Linux', na=False), 'device_name'] = 'Linux'\n",
    "main_df.loc[main_df['device_name'].str.contains('XT', na=False), 'device_name'] = 'Sony'\n",
    "main_df.loc[main_df['device_name'].str.contains('HTC', na=False), 'device_name'] = 'HTC'\n",
    "main_df.loc[main_df['device_name'].str.contains('ASUS', na=False), 'device_name'] = 'Asus'"
   ]
  },
  {
   "cell_type": "code",
   "execution_count": 50,
   "metadata": {},
   "outputs": [],
   "source": [
    "main_df.loc[main_df.device_name.isin(main_df.device_name.value_counts()[main_df.device_name.value_counts() < 200].index), 'device_name'] = 'Others'"
   ]
  },
  {
   "cell_type": "code",
   "execution_count": 51,
   "metadata": {},
   "outputs": [
    {
     "data": {
      "text/plain": [
       "13"
      ]
     },
     "execution_count": 51,
     "metadata": {},
     "output_type": "execute_result"
    }
   ],
   "source": [
    "main_df[\"device_name\"].nunique()"
   ]
  },
  {
   "cell_type": "markdown",
   "metadata": {},
   "source": [
    "### Dropping Columns(Features)"
   ]
  },
  {
   "cell_type": "markdown",
   "metadata": {},
   "source": [
    "#### TransactionID and TransactionDT"
   ]
  },
  {
   "cell_type": "code",
   "execution_count": 52,
   "metadata": {},
   "outputs": [],
   "source": [
    "main_df.drop(axis=\"columns\", labels=\"TransactionID\", inplace=True)\n",
    "main_df.drop(axis=\"columns\", labels=\"TransactionDT\", inplace=True)"
   ]
  },
  {
   "cell_type": "markdown",
   "metadata": {},
   "source": [
    "#### Categorical"
   ]
  },
  {
   "cell_type": "code",
   "execution_count": 53,
   "metadata": {},
   "outputs": [],
   "source": [
    "main_df.drop(axis=\"columns\", labels=\"DeviceInfo\", inplace=True)"
   ]
  },
  {
   "cell_type": "code",
   "execution_count": 54,
   "metadata": {},
   "outputs": [],
   "source": [
    "main_df.drop(axis=\"columns\", labels=\"DeviceType\", inplace=True)"
   ]
  },
  {
   "cell_type": "markdown",
   "metadata": {},
   "source": [
    "#### Mx"
   ]
  },
  {
   "cell_type": "code",
   "execution_count": 56,
   "metadata": {},
   "outputs": [],
   "source": [
    "main_df.drop(axis=\"columns\", labels=\"M3\", inplace=True)\n",
    "main_df.drop(axis=\"columns\", labels=\"M8\", inplace=True)\n",
    "main_df.drop(axis=\"columns\", labels=\"M9\", inplace=True)"
   ]
  },
  {
   "cell_type": "markdown",
   "metadata": {},
   "source": [
    "#### Dropping dist1 and dist2"
   ]
  },
  {
   "cell_type": "code",
   "execution_count": 58,
   "metadata": {},
   "outputs": [],
   "source": [
    "main_df.drop(axis=\"columns\", labels=\"dist2\", inplace=True)"
   ]
  },
  {
   "cell_type": "markdown",
   "metadata": {},
   "source": [
    "#### Dropping Dxx"
   ]
  },
  {
   "cell_type": "code",
   "execution_count": 59,
   "metadata": {},
   "outputs": [],
   "source": [
    "main_df.drop(axis=\"columns\", labels=\"D2\", inplace=True)\n",
    "main_df.drop(axis=\"columns\", labels=\"D7\", inplace=True)"
   ]
  },
  {
   "cell_type": "code",
   "execution_count": 60,
   "metadata": {},
   "outputs": [],
   "source": [
    "main_df.drop(axis=\"columns\", labels=\"D12\", inplace=True)\n",
    "\n",
    "# too many null values\n",
    "main_df.drop(axis=\"columns\", labels=\"D8\", inplace=True)\n",
    "main_df.drop(axis=\"columns\", labels=\"D9\", inplace=True)\n",
    "main_df.drop(axis=\"columns\", labels=\"D13\", inplace=True)\n",
    "main_df.drop(axis=\"columns\", labels=\"D14\", inplace=True)"
   ]
  },
  {
   "cell_type": "markdown",
   "metadata": {},
   "source": [
    "#### Dropping 'id_xx' columns"
   ]
  },
  {
   "cell_type": "code",
   "execution_count": 62,
   "metadata": {},
   "outputs": [],
   "source": [
    "main_df.drop(axis=\"columns\", labels=\"id_38\", inplace=True)\n",
    "main_df.drop(axis=\"columns\", labels=\"id_34\", inplace=True)\n",
    "main_df.drop(axis=\"columns\", labels=\"id_33\", inplace=True)\n",
    "main_df.drop(axis=\"columns\", labels=\"id_31\", inplace=True)\n",
    "main_df.drop(axis=\"columns\", labels=\"id_27\", inplace=True)\n",
    "main_df.drop(axis=\"columns\", labels=\"id_26\", inplace=True)\n",
    "main_df.drop(axis=\"columns\", labels=\"id_25\", inplace=True)\n",
    "main_df.drop(axis=\"columns\", labels=\"id_24\", inplace=True)\n",
    "main_df.drop(axis=\"columns\", labels=\"id_23\", inplace=True)\n",
    "main_df.drop(axis=\"columns\", labels=\"id_22\", inplace=True)\n",
    "main_df.drop(axis=\"columns\", labels=\"id_21\", inplace=True)\n",
    "main_df.drop(axis=\"columns\", labels=\"id_12\", inplace=True)\n",
    "main_df.drop(axis=\"columns\", labels=\"id_08\", inplace=True)\n",
    "main_df.drop(axis=\"columns\", labels=\"id_07\", inplace=True)"
   ]
  },
  {
   "cell_type": "markdown",
   "metadata": {},
   "source": [
    "#### Dropping 'Vxxx' columns"
   ]
  },
  {
   "cell_type": "code",
   "execution_count": 71,
   "metadata": {},
   "outputs": [],
   "source": [
    "main_df.drop(axis=\"columns\", labels=\"V339\", inplace=True)\n",
    "main_df.drop(axis=\"columns\", labels=\"V338\", inplace=True)\n",
    "main_df.drop(axis=\"columns\", labels=\"V337\", inplace=True)\n",
    "main_df.drop(axis=\"columns\", labels=\"V336\", inplace=True)\n",
    "main_df.drop(axis=\"columns\", labels=\"V335\", inplace=True)"
   ]
  },
  {
   "cell_type": "code",
   "execution_count": 72,
   "metadata": {},
   "outputs": [],
   "source": [
    "main_df.drop(axis=\"columns\", labels=\"V334\", inplace=True)\n",
    "main_df.drop(axis=\"columns\", labels=\"V333\", inplace=True)\n",
    "main_df.drop(axis=\"columns\", labels=\"V332\", inplace=True)\n",
    "main_df.drop(axis=\"columns\", labels=\"V331\", inplace=True)\n",
    "main_df.drop(axis=\"columns\", labels=\"V330\", inplace=True)"
   ]
  },
  {
   "cell_type": "code",
   "execution_count": 73,
   "metadata": {},
   "outputs": [],
   "source": [
    "main_df.drop(axis=\"columns\", labels=\"V329\", inplace=True)\n",
    "main_df.drop(axis=\"columns\", labels=\"V328\", inplace=True)\n",
    "main_df.drop(axis=\"columns\", labels=\"V327\", inplace=True)\n",
    "main_df.drop(axis=\"columns\", labels=\"V326\", inplace=True)\n",
    "main_df.drop(axis=\"columns\", labels=\"V325\", inplace=True)"
   ]
  },
  {
   "cell_type": "code",
   "execution_count": 74,
   "metadata": {},
   "outputs": [],
   "source": [
    "main_df.drop(axis=\"columns\", labels=\"V324\", inplace=True)\n",
    "main_df.drop(axis=\"columns\", labels=\"V323\", inplace=True)\n",
    "main_df.drop(axis=\"columns\", labels=\"V322\", inplace=True)"
   ]
  },
  {
   "cell_type": "code",
   "execution_count": 75,
   "metadata": {},
   "outputs": [],
   "source": [
    "main_df.drop(axis=\"columns\", labels=\"V278\", inplace=True)\n",
    "main_df.drop(axis=\"columns\", labels=\"V277\", inplace=True)\n",
    "main_df.drop(axis=\"columns\", labels=\"V276\", inplace=True)"
   ]
  },
  {
   "cell_type": "code",
   "execution_count": 76,
   "metadata": {},
   "outputs": [],
   "source": [
    "main_df.drop(axis=\"columns\", labels=\"V275\", inplace=True)\n",
    "main_df.drop(axis=\"columns\", labels=\"V274\", inplace=True)\n",
    "main_df.drop(axis=\"columns\", labels=\"V273\", inplace=True)"
   ]
  },
  {
   "cell_type": "code",
   "execution_count": 77,
   "metadata": {},
   "outputs": [],
   "source": [
    "main_df.drop(axis=\"columns\", labels=\"V272\", inplace=True)\n",
    "main_df.drop(axis=\"columns\", labels=\"V271\", inplace=True)\n",
    "main_df.drop(axis=\"columns\", labels=\"V270\", inplace=True)"
   ]
  },
  {
   "cell_type": "code",
   "execution_count": 78,
   "metadata": {},
   "outputs": [],
   "source": [
    "main_df.drop(axis=\"columns\", labels=\"V269\", inplace=True)\n",
    "main_df.drop(axis=\"columns\", labels=\"V268\", inplace=True)\n",
    "main_df.drop(axis=\"columns\", labels=\"V267\", inplace=True)"
   ]
  },
  {
   "cell_type": "code",
   "execution_count": 79,
   "metadata": {},
   "outputs": [],
   "source": [
    "main_df.drop(axis=\"columns\", labels=\"V266\", inplace=True)\n",
    "main_df.drop(axis=\"columns\", labels=\"V265\", inplace=True)\n",
    "main_df.drop(axis=\"columns\", labels=\"V264\", inplace=True)"
   ]
  },
  {
   "cell_type": "code",
   "execution_count": 80,
   "metadata": {},
   "outputs": [],
   "source": [
    "main_df.drop(axis=\"columns\", labels=\"V263\", inplace=True)\n",
    "main_df.drop(axis=\"columns\", labels=\"V262\", inplace=True)\n",
    "main_df.drop(axis=\"columns\", labels=\"V261\", inplace=True)"
   ]
  },
  {
   "cell_type": "code",
   "execution_count": 81,
   "metadata": {},
   "outputs": [],
   "source": [
    "main_df.drop(axis=\"columns\", labels=\"V260\", inplace=True)\n",
    "main_df.drop(axis=\"columns\", labels=\"V259\", inplace=True)\n",
    "main_df.drop(axis=\"columns\", labels=\"V258\", inplace=True)"
   ]
  },
  {
   "cell_type": "code",
   "execution_count": 82,
   "metadata": {},
   "outputs": [],
   "source": [
    "main_df.drop(axis=\"columns\", labels=\"V257\", inplace=True)\n",
    "main_df.drop(axis=\"columns\", labels=\"V256\", inplace=True)\n",
    "main_df.drop(axis=\"columns\", labels=\"V255\", inplace=True)"
   ]
  },
  {
   "cell_type": "code",
   "execution_count": 83,
   "metadata": {},
   "outputs": [],
   "source": [
    "main_df.drop(axis=\"columns\", labels=\"V254\", inplace=True)\n",
    "main_df.drop(axis=\"columns\", labels=\"V253\", inplace=True)\n",
    "main_df.drop(axis=\"columns\", labels=\"V252\", inplace=True)"
   ]
  },
  {
   "cell_type": "code",
   "execution_count": 84,
   "metadata": {},
   "outputs": [],
   "source": [
    "main_df.drop(axis=\"columns\", labels=\"V251\", inplace=True)\n",
    "main_df.drop(axis=\"columns\", labels=\"V250\", inplace=True)\n",
    "main_df.drop(axis=\"columns\", labels=\"V249\", inplace=True)"
   ]
  },
  {
   "cell_type": "code",
   "execution_count": 85,
   "metadata": {},
   "outputs": [],
   "source": [
    "main_df.drop(axis=\"columns\", labels=\"V248\", inplace=True)\n",
    "main_df.drop(axis=\"columns\", labels=\"V247\", inplace=True)\n",
    "main_df.drop(axis=\"columns\", labels=\"V246\", inplace=True)"
   ]
  },
  {
   "cell_type": "code",
   "execution_count": 86,
   "metadata": {},
   "outputs": [],
   "source": [
    "main_df.drop(axis=\"columns\", labels=\"V245\", inplace=True)\n",
    "main_df.drop(axis=\"columns\", labels=\"V244\", inplace=True)\n",
    "main_df.drop(axis=\"columns\", labels=\"V243\", inplace=True)"
   ]
  },
  {
   "cell_type": "code",
   "execution_count": 87,
   "metadata": {},
   "outputs": [],
   "source": [
    "main_df.drop(axis=\"columns\", labels=\"V242\", inplace=True)\n",
    "main_df.drop(axis=\"columns\", labels=\"V241\", inplace=True)\n",
    "main_df.drop(axis=\"columns\", labels=\"V240\", inplace=True)"
   ]
  },
  {
   "cell_type": "code",
   "execution_count": 88,
   "metadata": {},
   "outputs": [],
   "source": [
    "main_df.drop(axis=\"columns\", labels=\"V239\", inplace=True)\n",
    "main_df.drop(axis=\"columns\", labels=\"V238\", inplace=True)\n",
    "main_df.drop(axis=\"columns\", labels=\"V237\", inplace=True)"
   ]
  },
  {
   "cell_type": "code",
   "execution_count": 89,
   "metadata": {},
   "outputs": [],
   "source": [
    "main_df.drop(axis=\"columns\", labels=\"V236\", inplace=True)\n",
    "main_df.drop(axis=\"columns\", labels=\"V235\", inplace=True)\n",
    "main_df.drop(axis=\"columns\", labels=\"V234\", inplace=True)"
   ]
  },
  {
   "cell_type": "code",
   "execution_count": 90,
   "metadata": {},
   "outputs": [],
   "source": [
    "main_df.drop(axis=\"columns\", labels=\"V233\", inplace=True)\n",
    "main_df.drop(axis=\"columns\", labels=\"V232\", inplace=True)\n",
    "main_df.drop(axis=\"columns\", labels=\"V231\", inplace=True)"
   ]
  },
  {
   "cell_type": "code",
   "execution_count": 91,
   "metadata": {},
   "outputs": [],
   "source": [
    "main_df.drop(axis=\"columns\", labels=\"V230\", inplace=True)\n",
    "main_df.drop(axis=\"columns\", labels=\"V229\", inplace=True)\n",
    "main_df.drop(axis=\"columns\", labels=\"V228\", inplace=True)"
   ]
  },
  {
   "cell_type": "code",
   "execution_count": 92,
   "metadata": {},
   "outputs": [],
   "source": [
    "main_df.drop(axis=\"columns\", labels=\"V227\", inplace=True)\n",
    "main_df.drop(axis=\"columns\", labels=\"V226\", inplace=True)\n",
    "main_df.drop(axis=\"columns\", labels=\"V225\", inplace=True)"
   ]
  },
  {
   "cell_type": "code",
   "execution_count": 93,
   "metadata": {},
   "outputs": [],
   "source": [
    "main_df.drop(axis=\"columns\", labels=\"V224\", inplace=True)\n",
    "main_df.drop(axis=\"columns\", labels=\"V223\", inplace=True)\n",
    "main_df.drop(axis=\"columns\", labels=\"V222\", inplace=True)"
   ]
  },
  {
   "cell_type": "code",
   "execution_count": 94,
   "metadata": {},
   "outputs": [],
   "source": [
    "main_df.drop(axis=\"columns\", labels=\"V221\", inplace=True)\n",
    "main_df.drop(axis=\"columns\", labels=\"V220\", inplace=True)\n",
    "main_df.drop(axis=\"columns\", labels=\"V219\", inplace=True)"
   ]
  },
  {
   "cell_type": "code",
   "execution_count": 95,
   "metadata": {},
   "outputs": [],
   "source": [
    "main_df.drop(axis=\"columns\", labels=\"V218\", inplace=True)\n",
    "main_df.drop(axis=\"columns\", labels=\"V217\", inplace=True)\n",
    "main_df.drop(axis=\"columns\", labels=\"V216\", inplace=True)"
   ]
  },
  {
   "cell_type": "code",
   "execution_count": 96,
   "metadata": {},
   "outputs": [],
   "source": [
    "main_df.drop(axis=\"columns\", labels=\"V215\", inplace=True)\n",
    "main_df.drop(axis=\"columns\", labels=\"V214\", inplace=True)\n",
    "main_df.drop(axis=\"columns\", labels=\"V213\", inplace=True)"
   ]
  },
  {
   "cell_type": "code",
   "execution_count": 97,
   "metadata": {},
   "outputs": [],
   "source": [
    "main_df.drop(axis=\"columns\", labels=\"V212\", inplace=True)\n",
    "main_df.drop(axis=\"columns\", labels=\"V211\", inplace=True)\n",
    "main_df.drop(axis=\"columns\", labels=\"V210\", inplace=True)"
   ]
  },
  {
   "cell_type": "code",
   "execution_count": 98,
   "metadata": {},
   "outputs": [],
   "source": [
    "main_df.drop(axis=\"columns\", labels=\"V209\", inplace=True)\n",
    "main_df.drop(axis=\"columns\", labels=\"V208\", inplace=True)\n",
    "main_df.drop(axis=\"columns\", labels=\"V207\", inplace=True)"
   ]
  },
  {
   "cell_type": "code",
   "execution_count": 99,
   "metadata": {},
   "outputs": [],
   "source": [
    "main_df.drop(axis=\"columns\", labels=\"V206\", inplace=True)\n",
    "main_df.drop(axis=\"columns\", labels=\"V205\", inplace=True)\n",
    "main_df.drop(axis=\"columns\", labels=\"V204\", inplace=True)"
   ]
  },
  {
   "cell_type": "code",
   "execution_count": 100,
   "metadata": {},
   "outputs": [],
   "source": [
    "main_df.drop(axis=\"columns\", labels=\"V203\", inplace=True)\n",
    "main_df.drop(axis=\"columns\", labels=\"V202\", inplace=True)\n",
    "main_df.drop(axis=\"columns\", labels=\"V201\", inplace=True)"
   ]
  },
  {
   "cell_type": "code",
   "execution_count": 101,
   "metadata": {},
   "outputs": [],
   "source": [
    "main_df.drop(axis=\"columns\", labels=\"V200\", inplace=True)\n",
    "main_df.drop(axis=\"columns\", labels=\"V199\", inplace=True)\n",
    "main_df.drop(axis=\"columns\", labels=\"V198\", inplace=True)"
   ]
  },
  {
   "cell_type": "code",
   "execution_count": 102,
   "metadata": {},
   "outputs": [],
   "source": [
    "main_df.drop(axis=\"columns\", labels=\"V197\", inplace=True)\n",
    "main_df.drop(axis=\"columns\", labels=\"V196\", inplace=True)\n",
    "main_df.drop(axis=\"columns\", labels=\"V195\", inplace=True)"
   ]
  },
  {
   "cell_type": "code",
   "execution_count": 103,
   "metadata": {},
   "outputs": [],
   "source": [
    "main_df.drop(axis=\"columns\", labels=\"V194\", inplace=True)\n",
    "main_df.drop(axis=\"columns\", labels=\"V193\", inplace=True)\n",
    "main_df.drop(axis=\"columns\", labels=\"V192\", inplace=True)"
   ]
  },
  {
   "cell_type": "code",
   "execution_count": 104,
   "metadata": {},
   "outputs": [],
   "source": [
    "main_df.drop(axis=\"columns\", labels=\"V191\", inplace=True)\n",
    "main_df.drop(axis=\"columns\", labels=\"V190\", inplace=True)\n",
    "main_df.drop(axis=\"columns\", labels=\"V189\", inplace=True)"
   ]
  },
  {
   "cell_type": "code",
   "execution_count": 105,
   "metadata": {},
   "outputs": [],
   "source": [
    "main_df.drop(axis=\"columns\", labels=\"V188\", inplace=True)\n",
    "main_df.drop(axis=\"columns\", labels=\"V187\", inplace=True)\n",
    "main_df.drop(axis=\"columns\", labels=\"V186\", inplace=True)"
   ]
  },
  {
   "cell_type": "code",
   "execution_count": 106,
   "metadata": {},
   "outputs": [],
   "source": [
    "main_df.drop(axis=\"columns\", labels=\"V185\", inplace=True)\n",
    "main_df.drop(axis=\"columns\", labels=\"V184\", inplace=True)\n",
    "main_df.drop(axis=\"columns\", labels=\"V183\", inplace=True)"
   ]
  },
  {
   "cell_type": "code",
   "execution_count": 107,
   "metadata": {},
   "outputs": [],
   "source": [
    "main_df.drop(axis=\"columns\", labels=\"V182\", inplace=True)\n",
    "main_df.drop(axis=\"columns\", labels=\"V181\", inplace=True)\n",
    "main_df.drop(axis=\"columns\", labels=\"V180\", inplace=True)"
   ]
  },
  {
   "cell_type": "code",
   "execution_count": 108,
   "metadata": {},
   "outputs": [],
   "source": [
    "main_df.drop(axis=\"columns\", labels=\"V179\", inplace=True)\n",
    "main_df.drop(axis=\"columns\", labels=\"V178\", inplace=True)\n",
    "main_df.drop(axis=\"columns\", labels=\"V177\", inplace=True)"
   ]
  },
  {
   "cell_type": "code",
   "execution_count": 109,
   "metadata": {},
   "outputs": [],
   "source": [
    "main_df.drop(axis=\"columns\", labels=\"V176\", inplace=True)\n",
    "main_df.drop(axis=\"columns\", labels=\"V175\", inplace=True)\n",
    "main_df.drop(axis=\"columns\", labels=\"V174\", inplace=True)"
   ]
  },
  {
   "cell_type": "code",
   "execution_count": 110,
   "metadata": {},
   "outputs": [],
   "source": [
    "main_df.drop(axis=\"columns\", labels=\"V173\", inplace=True)\n",
    "main_df.drop(axis=\"columns\", labels=\"V172\", inplace=True)\n",
    "main_df.drop(axis=\"columns\", labels=\"V171\", inplace=True)"
   ]
  },
  {
   "cell_type": "code",
   "execution_count": 111,
   "metadata": {},
   "outputs": [],
   "source": [
    "main_df.drop(axis=\"columns\", labels=\"V170\", inplace=True)\n",
    "main_df.drop(axis=\"columns\", labels=\"V169\", inplace=True)\n",
    "main_df.drop(axis=\"columns\", labels=\"V168\", inplace=True)"
   ]
  },
  {
   "cell_type": "code",
   "execution_count": 112,
   "metadata": {},
   "outputs": [],
   "source": [
    "main_df.drop(axis=\"columns\", labels=\"V167\", inplace=True)\n",
    "main_df.drop(axis=\"columns\", labels=\"V166\", inplace=True)\n",
    "main_df.drop(axis=\"columns\", labels=\"V165\", inplace=True)"
   ]
  },
  {
   "cell_type": "code",
   "execution_count": 113,
   "metadata": {},
   "outputs": [],
   "source": [
    "main_df.drop(axis=\"columns\", labels=\"V164\", inplace=True)\n",
    "main_df.drop(axis=\"columns\", labels=\"V163\", inplace=True)\n",
    "main_df.drop(axis=\"columns\", labels=\"V162\", inplace=True)"
   ]
  },
  {
   "cell_type": "code",
   "execution_count": 114,
   "metadata": {},
   "outputs": [],
   "source": [
    "main_df.drop(axis=\"columns\", labels=\"V161\", inplace=True)\n",
    "main_df.drop(axis=\"columns\", labels=\"V160\", inplace=True)\n",
    "main_df.drop(axis=\"columns\", labels=\"V159\", inplace=True)"
   ]
  },
  {
   "cell_type": "code",
   "execution_count": 115,
   "metadata": {},
   "outputs": [],
   "source": [
    "main_df.drop(axis=\"columns\", labels=\"V158\", inplace=True)\n",
    "main_df.drop(axis=\"columns\", labels=\"V157\", inplace=True)\n",
    "main_df.drop(axis=\"columns\", labels=\"V156\", inplace=True)"
   ]
  },
  {
   "cell_type": "code",
   "execution_count": 116,
   "metadata": {},
   "outputs": [],
   "source": [
    "main_df.drop(axis=\"columns\", labels=\"V155\", inplace=True)\n",
    "main_df.drop(axis=\"columns\", labels=\"V154\", inplace=True)\n",
    "main_df.drop(axis=\"columns\", labels=\"V153\", inplace=True)"
   ]
  },
  {
   "cell_type": "code",
   "execution_count": 117,
   "metadata": {},
   "outputs": [],
   "source": [
    "main_df.drop(axis=\"columns\", labels=\"V152\", inplace=True)\n",
    "main_df.drop(axis=\"columns\", labels=\"V151\", inplace=True)\n",
    "main_df.drop(axis=\"columns\", labels=\"V150\", inplace=True)"
   ]
  },
  {
   "cell_type": "code",
   "execution_count": 118,
   "metadata": {},
   "outputs": [],
   "source": [
    "main_df.drop(axis=\"columns\", labels=\"V149\", inplace=True)\n",
    "main_df.drop(axis=\"columns\", labels=\"V148\", inplace=True)\n",
    "main_df.drop(axis=\"columns\", labels=\"V147\", inplace=True)"
   ]
  },
  {
   "cell_type": "code",
   "execution_count": 119,
   "metadata": {},
   "outputs": [],
   "source": [
    "main_df.drop(axis=\"columns\", labels=\"V146\", inplace=True)\n",
    "main_df.drop(axis=\"columns\", labels=\"V145\", inplace=True)\n",
    "main_df.drop(axis=\"columns\", labels=\"V144\", inplace=True)"
   ]
  },
  {
   "cell_type": "code",
   "execution_count": 120,
   "metadata": {},
   "outputs": [],
   "source": [
    "main_df.drop(axis=\"columns\", labels=\"V143\", inplace=True)\n",
    "main_df.drop(axis=\"columns\", labels=\"V142\", inplace=True)\n",
    "main_df.drop(axis=\"columns\", labels=\"V141\", inplace=True)"
   ]
  },
  {
   "cell_type": "code",
   "execution_count": 121,
   "metadata": {},
   "outputs": [],
   "source": [
    "main_df.drop(axis=\"columns\", labels=\"V140\", inplace=True)\n",
    "main_df.drop(axis=\"columns\", labels=\"V139\", inplace=True)\n",
    "main_df.drop(axis=\"columns\", labels=\"V138\", inplace=True)"
   ]
  },
  {
   "cell_type": "code",
   "execution_count": 122,
   "metadata": {},
   "outputs": [],
   "source": [
    "main_df.drop(axis=\"columns\", labels=\"V52\", inplace=True)\n",
    "main_df.drop(axis=\"columns\", labels=\"V51\", inplace=True)\n",
    "main_df.drop(axis=\"columns\", labels=\"V50\", inplace=True)"
   ]
  },
  {
   "cell_type": "code",
   "execution_count": 123,
   "metadata": {},
   "outputs": [],
   "source": [
    "main_df.drop(axis=\"columns\", labels=\"V49\", inplace=True)\n",
    "main_df.drop(axis=\"columns\", labels=\"V48\", inplace=True)\n",
    "main_df.drop(axis=\"columns\", labels=\"V47\", inplace=True)"
   ]
  },
  {
   "cell_type": "code",
   "execution_count": 124,
   "metadata": {},
   "outputs": [],
   "source": [
    "main_df.drop(axis=\"columns\", labels=\"V46\", inplace=True)\n",
    "main_df.drop(axis=\"columns\", labels=\"V45\", inplace=True)\n",
    "main_df.drop(axis=\"columns\", labels=\"V44\", inplace=True)"
   ]
  },
  {
   "cell_type": "code",
   "execution_count": 125,
   "metadata": {},
   "outputs": [],
   "source": [
    "main_df.drop(axis=\"columns\", labels=\"V43\", inplace=True)\n",
    "main_df.drop(axis=\"columns\", labels=\"V42\", inplace=True)\n",
    "main_df.drop(axis=\"columns\", labels=\"V41\", inplace=True)"
   ]
  },
  {
   "cell_type": "code",
   "execution_count": 126,
   "metadata": {},
   "outputs": [],
   "source": [
    "main_df.drop(axis=\"columns\", labels=\"V40\", inplace=True)\n",
    "main_df.drop(axis=\"columns\", labels=\"V39\", inplace=True)\n",
    "main_df.drop(axis=\"columns\", labels=\"V38\", inplace=True)"
   ]
  },
  {
   "cell_type": "code",
   "execution_count": 127,
   "metadata": {},
   "outputs": [],
   "source": [
    "main_df.drop(axis=\"columns\", labels=\"V37\", inplace=True)\n",
    "main_df.drop(axis=\"columns\", labels=\"V36\", inplace=True)\n",
    "main_df.drop(axis=\"columns\", labels=\"V35\", inplace=True)"
   ]
  },
  {
   "cell_type": "code",
   "execution_count": 128,
   "metadata": {},
   "outputs": [],
   "source": [
    "main_df.drop(axis=\"columns\", labels=\"V11\", inplace=True)\n",
    "main_df.drop(axis=\"columns\", labels=\"V10\", inplace=True)\n",
    "main_df.drop(axis=\"columns\", labels=\"V9\", inplace=True)"
   ]
  },
  {
   "cell_type": "code",
   "execution_count": 129,
   "metadata": {},
   "outputs": [],
   "source": [
    "main_df.drop(axis=\"columns\", labels=\"V8\", inplace=True)\n",
    "main_df.drop(axis=\"columns\", labels=\"V7\", inplace=True)\n",
    "main_df.drop(axis=\"columns\", labels=\"V6\", inplace=True)"
   ]
  },
  {
   "cell_type": "code",
   "execution_count": 130,
   "metadata": {},
   "outputs": [],
   "source": [
    "main_df.drop(axis=\"columns\", labels=\"V5\", inplace=True)\n",
    "main_df.drop(axis=\"columns\", labels=\"V4\", inplace=True)\n",
    "main_df.drop(axis=\"columns\", labels=\"V3\", inplace=True)"
   ]
  },
  {
   "cell_type": "code",
   "execution_count": 131,
   "metadata": {},
   "outputs": [],
   "source": [
    "main_df.drop(axis=\"columns\", labels=\"V2\", inplace=True)\n",
    "main_df.drop(axis=\"columns\", labels=\"V1\", inplace=True)"
   ]
  },
  {
   "cell_type": "markdown",
   "metadata": {},
   "source": [
    "### Replacing NULL values by something"
   ]
  },
  {
   "cell_type": "code",
   "execution_count": 132,
   "metadata": {},
   "outputs": [],
   "source": [
    "main_df[\"isFraud\"].isna().sum()\n",
    "main_df[\"isFraud\"].fillna(0, inplace=True)"
   ]
  },
  {
   "cell_type": "markdown",
   "metadata": {},
   "source": [
    "#### For Vxxx columns"
   ]
  },
  {
   "cell_type": "markdown",
   "metadata": {},
   "source": [
    "If more outliers than replace by median\n",
    "\n",
    "If less outliers replace by mean"
   ]
  },
  {
   "cell_type": "code",
   "execution_count": 133,
   "metadata": {},
   "outputs": [],
   "source": [
    "main_df[\"V321\"].fillna(main_df[\"V321\"].median(), inplace=True)\n",
    "main_df[\"V320\"].fillna(main_df[\"V320\"].median(), inplace=True)\n",
    "main_df[\"V319\"].fillna(main_df[\"V319\"].median(), inplace=True)\n",
    "main_df[\"V318\"].fillna(main_df[\"V318\"].median(), inplace=True)\n",
    "main_df[\"V317\"].fillna(main_df[\"V317\"].median(), inplace=True)"
   ]
  },
  {
   "cell_type": "code",
   "execution_count": 135,
   "metadata": {},
   "outputs": [],
   "source": [
    "main_df[\"V316\"].fillna(main_df[\"V316\"].median(), inplace=True)\n",
    "main_df[\"V315\"].fillna(main_df[\"V315\"].median(), inplace=True)\n",
    "main_df[\"V314\"].fillna(main_df[\"V314\"].median(), inplace=True)\n",
    "main_df[\"V313\"].fillna(main_df[\"V313\"].median(), inplace=True)\n",
    "main_df[\"V312\"].fillna(main_df[\"V312\"].median(), inplace=True)"
   ]
  },
  {
   "cell_type": "code",
   "execution_count": 136,
   "metadata": {},
   "outputs": [],
   "source": [
    "main_df[\"V311\"].fillna(main_df[\"V311\"].median(), inplace=True)\n",
    "main_df[\"V310\"].fillna(main_df[\"V310\"].median(), inplace=True)\n",
    "main_df[\"V309\"].fillna(main_df[\"V309\"].median(), inplace=True)\n",
    "main_df[\"V308\"].fillna(main_df[\"V308\"].median(), inplace=True)\n",
    "main_df[\"V307\"].fillna(main_df[\"V307\"].median(), inplace=True)"
   ]
  },
  {
   "cell_type": "code",
   "execution_count": 137,
   "metadata": {},
   "outputs": [],
   "source": [
    "main_df[\"V306\"].fillna(main_df[\"V306\"].median(), inplace=True)\n",
    "main_df[\"V305\"].fillna(main_df[\"V305\"].median(), inplace=True)\n",
    "main_df[\"V304\"].fillna(main_df[\"V304\"].median(), inplace=True)\n",
    "main_df[\"V303\"].fillna(main_df[\"V303\"].median(), inplace=True)\n",
    "main_df[\"V302\"].fillna(main_df[\"V302\"].median(), inplace=True)"
   ]
  },
  {
   "cell_type": "code",
   "execution_count": 138,
   "metadata": {},
   "outputs": [],
   "source": [
    "main_df[\"V301\"].fillna(main_df[\"V301\"].median(), inplace=True)\n",
    "main_df[\"V300\"].fillna(main_df[\"V300\"].median(), inplace=True)\n",
    "main_df[\"V299\"].fillna(main_df[\"V299\"].median(), inplace=True)\n",
    "main_df[\"V298\"].fillna(main_df[\"V298\"].median(), inplace=True)\n",
    "main_df[\"V297\"].fillna(main_df[\"V297\"].median(), inplace=True)"
   ]
  },
  {
   "cell_type": "code",
   "execution_count": 139,
   "metadata": {},
   "outputs": [],
   "source": [
    "main_df[\"V296\"].fillna(main_df[\"V296\"].median(), inplace=True)\n",
    "main_df[\"V295\"].fillna(main_df[\"V295\"].median(), inplace=True)\n",
    "main_df[\"V294\"].fillna(main_df[\"V294\"].median(), inplace=True)\n",
    "main_df[\"V293\"].fillna(main_df[\"V293\"].median(), inplace=True)\n",
    "main_df[\"V292\"].fillna(main_df[\"V292\"].median(), inplace=True)"
   ]
  },
  {
   "cell_type": "code",
   "execution_count": 141,
   "metadata": {},
   "outputs": [],
   "source": [
    "main_df[\"V291\"].fillna(main_df[\"V291\"].median(), inplace=True)\n",
    "main_df[\"V290\"].fillna(main_df[\"V290\"].median(), inplace=True)\n",
    "main_df[\"V289\"].fillna(main_df[\"V289\"].median(), inplace=True)\n",
    "main_df[\"V288\"].fillna(main_df[\"V288\"].median(), inplace=True)\n",
    "main_df[\"V287\"].fillna(main_df[\"V287\"].median(), inplace=True)"
   ]
  },
  {
   "cell_type": "code",
   "execution_count": 143,
   "metadata": {},
   "outputs": [],
   "source": [
    "main_df[\"V286\"].fillna(main_df[\"V286\"].median(), inplace=True)\n",
    "main_df[\"V285\"].fillna(main_df[\"V285\"].median(), inplace=True)\n",
    "main_df[\"V284\"].fillna(main_df[\"V284\"].median(), inplace=True)"
   ]
  },
  {
   "cell_type": "code",
   "execution_count": 144,
   "metadata": {},
   "outputs": [],
   "source": [
    "main_df[\"V281\"].fillna(main_df[\"V281\"].median(), inplace=True)\n",
    "main_df[\"V280\"].fillna(main_df[\"V280\"].median(), inplace=True)\n",
    "main_df[\"V279\"].fillna(main_df[\"V279\"].median(), inplace=True)"
   ]
  },
  {
   "cell_type": "code",
   "execution_count": 146,
   "metadata": {},
   "outputs": [],
   "source": [
    "main_df[\"V137\"].fillna(main_df[\"V137\"].median(), inplace=True)\n",
    "main_df[\"V136\"].fillna(main_df[\"V136\"].median(), inplace=True)\n",
    "main_df[\"V135\"].fillna(main_df[\"V135\"].median(), inplace=True)"
   ]
  },
  {
   "cell_type": "code",
   "execution_count": 147,
   "metadata": {},
   "outputs": [],
   "source": [
    "main_df[\"V134\"].fillna(main_df[\"V134\"].median(), inplace=True)\n",
    "main_df[\"V133\"].fillna(main_df[\"V133\"].median(), inplace=True)\n",
    "main_df[\"V132\"].fillna(main_df[\"V132\"].median(), inplace=True)"
   ]
  },
  {
   "cell_type": "code",
   "execution_count": 148,
   "metadata": {},
   "outputs": [],
   "source": [
    "main_df[\"V131\"].fillna(main_df[\"V131\"].median(), inplace=True)\n",
    "main_df[\"V130\"].fillna(main_df[\"V130\"].median(), inplace=True)\n",
    "main_df[\"V129\"].fillna(main_df[\"V129\"].median(), inplace=True)"
   ]
  },
  {
   "cell_type": "code",
   "execution_count": 149,
   "metadata": {},
   "outputs": [],
   "source": [
    "main_df[\"V128\"].fillna(main_df[\"V128\"].median(), inplace=True)\n",
    "main_df[\"V127\"].fillna(main_df[\"V127\"].median(), inplace=True)\n",
    "main_df[\"V126\"].fillna(main_df[\"V126\"].median(), inplace=True)"
   ]
  },
  {
   "cell_type": "code",
   "execution_count": 150,
   "metadata": {},
   "outputs": [],
   "source": [
    "main_df[\"V125\"].fillna(main_df[\"V125\"].median(), inplace=True)\n",
    "main_df[\"V124\"].fillna(main_df[\"V124\"].median(), inplace=True)\n",
    "main_df[\"V123\"].fillna(main_df[\"V123\"].median(), inplace=True)"
   ]
  },
  {
   "cell_type": "code",
   "execution_count": 151,
   "metadata": {},
   "outputs": [],
   "source": [
    "main_df[\"V122\"].fillna(main_df[\"V122\"].median(), inplace=True)\n",
    "main_df[\"V121\"].fillna(main_df[\"V121\"].median(), inplace=True)\n",
    "main_df[\"V120\"].fillna(main_df[\"V120\"].median(), inplace=True)"
   ]
  },
  {
   "cell_type": "code",
   "execution_count": 153,
   "metadata": {},
   "outputs": [],
   "source": [
    "main_df[\"V119\"].fillna(main_df[\"V119\"].median(), inplace=True)\n",
    "main_df[\"V118\"].fillna(main_df[\"V118\"].median(), inplace=True)\n",
    "main_df[\"V117\"].fillna(main_df[\"V117\"].median(), inplace=True)"
   ]
  },
  {
   "cell_type": "code",
   "execution_count": 154,
   "metadata": {},
   "outputs": [],
   "source": [
    "main_df[\"V116\"].fillna(main_df[\"V116\"].median(), inplace=True)\n",
    "main_df[\"V115\"].fillna(main_df[\"V115\"].median(), inplace=True)\n",
    "main_df[\"V114\"].fillna(main_df[\"V114\"].median(), inplace=True)"
   ]
  },
  {
   "cell_type": "code",
   "execution_count": 155,
   "metadata": {},
   "outputs": [],
   "source": [
    "main_df[\"V113\"].fillna(main_df[\"V113\"].median(), inplace=True)\n",
    "main_df[\"V112\"].fillna(main_df[\"V112\"].median(), inplace=True)\n",
    "main_df[\"V111\"].fillna(main_df[\"V111\"].median(), inplace=True)"
   ]
  },
  {
   "cell_type": "code",
   "execution_count": 156,
   "metadata": {},
   "outputs": [],
   "source": [
    "main_df[\"V110\"].fillna(main_df[\"V110\"].median(), inplace=True)\n",
    "main_df[\"V109\"].fillna(main_df[\"V109\"].median(), inplace=True)\n",
    "main_df[\"V108\"].fillna(main_df[\"V108\"].median(), inplace=True)"
   ]
  },
  {
   "cell_type": "code",
   "execution_count": 157,
   "metadata": {},
   "outputs": [],
   "source": [
    "main_df[\"V107\"].fillna(main_df[\"V107\"].median(), inplace=True)\n",
    "main_df[\"V106\"].fillna(main_df[\"V106\"].median(), inplace=True)\n",
    "main_df[\"V105\"].fillna(main_df[\"V105\"].median(), inplace=True)"
   ]
  },
  {
   "cell_type": "code",
   "execution_count": 158,
   "metadata": {},
   "outputs": [],
   "source": [
    "main_df[\"V104\"].fillna(main_df[\"V104\"].median(), inplace=True)\n",
    "main_df[\"V103\"].fillna(main_df[\"V103\"].median(), inplace=True)\n",
    "main_df[\"V102\"].fillna(main_df[\"V102\"].median(), inplace=True)"
   ]
  },
  {
   "cell_type": "code",
   "execution_count": 159,
   "metadata": {},
   "outputs": [],
   "source": [
    "main_df[\"V101\"].fillna(main_df[\"V101\"].median(), inplace=True)\n",
    "main_df[\"V100\"].fillna(main_df[\"V100\"].median(), inplace=True)\n",
    "main_df[\"V99\"].fillna(main_df[\"V99\"].median(), inplace=True)"
   ]
  },
  {
   "cell_type": "code",
   "execution_count": 161,
   "metadata": {},
   "outputs": [],
   "source": [
    "main_df[\"V98\"].fillna(main_df[\"V98\"].median(), inplace=True)\n",
    "main_df[\"V97\"].fillna(main_df[\"V97\"].median(), inplace=True)\n",
    "main_df[\"V96\"].fillna(main_df[\"V96\"].median(), inplace=True)"
   ]
  },
  {
   "cell_type": "code",
   "execution_count": 162,
   "metadata": {},
   "outputs": [],
   "source": [
    "main_df[\"V95\"].fillna(main_df[\"V95\"].median(), inplace=True)\n",
    "main_df[\"V282\"].fillna(main_df[\"V282\"].median(), inplace=True)\n",
    "main_df[\"V283\"].fillna(main_df[\"V283\"].median(), inplace=True)"
   ]
  },
  {
   "cell_type": "markdown",
   "metadata": {},
   "source": [
    "#### Every column except Vxxx"
   ]
  },
  {
   "cell_type": "code",
   "execution_count": 163,
   "metadata": {},
   "outputs": [],
   "source": [
    "main_df[\"dist1\"].fillna(main_df[\"dist1\"].median(), inplace=True)"
   ]
  },
  {
   "cell_type": "code",
   "execution_count": 164,
   "metadata": {},
   "outputs": [],
   "source": [
    "main_df[\"card4\"].fillna(\"visa\", inplace=True)\n",
    "main_df[\"card6\"].fillna(\"debit\", inplace=True)\n",
    "main_df[\"card2\"].fillna(main_df[\"card2\"].median(), inplace=True)\n",
    "main_df[\"card3\"].fillna(main_df[\"card3\"].median(), inplace=True)\n",
    "main_df[\"card5\"].fillna(main_df[\"card5\"].median(), inplace=True)"
   ]
  },
  {
   "cell_type": "code",
   "execution_count": 165,
   "metadata": {},
   "outputs": [],
   "source": [
    "main_df[\"addr1\"].fillna(main_df[\"addr1\"].median(), inplace=True)\n",
    "main_df[\"addr2\"].fillna(main_df[\"addr2\"].median(), inplace=True)"
   ]
  },
  {
   "cell_type": "code",
   "execution_count": 166,
   "metadata": {},
   "outputs": [],
   "source": [
    "main_df[\"D1\"].fillna(main_df[\"D1\"].median(), inplace=True)\n",
    "main_df[\"D3\"].fillna(main_df[\"D3\"].median(), inplace=True)\n",
    "main_df[\"D4\"].fillna(main_df[\"D4\"].median(), inplace=True)\n",
    "main_df[\"D5\"].fillna(main_df[\"D5\"].median(), inplace=True)\n",
    "main_df[\"D6\"].fillna(main_df[\"D6\"].median(), inplace=True)\n",
    "main_df[\"D10\"].fillna(main_df[\"D10\"].median(), inplace=True)\n",
    "main_df[\"D11\"].fillna(main_df[\"D11\"].median(), inplace=True)\n",
    "main_df[\"D15\"].fillna(main_df[\"D15\"].median(), inplace=True)"
   ]
  },
  {
   "attachments": {},
   "cell_type": "markdown",
   "metadata": {},
   "source": [
    "gmail.com is the mode of P_emaildomain and R_emaildomain"
   ]
  },
  {
   "cell_type": "code",
   "execution_count": 168,
   "metadata": {},
   "outputs": [],
   "source": [
    "main_df[\"R_emaildomain\"].fillna(\"gmail.com\", inplace=True)\n",
    "main_df[\"P_emaildomain\"].fillna(\"gmail.com\", inplace=True)"
   ]
  },
  {
   "cell_type": "code",
   "execution_count": 169,
   "metadata": {},
   "outputs": [],
   "source": [
    "main_df[\"M1\"].fillna(\"T\", inplace=True)\n",
    "main_df[\"M2\"].fillna(\"T\", inplace=True)\n",
    "main_df[\"M4\"].fillna(\"M0\", inplace=True)\n",
    "main_df[\"M5\"].fillna(\"F\", inplace=True)\n",
    "main_df[\"M6\"].fillna(\"F\", inplace=True)\n",
    "main_df[\"M7\"].fillna(\"F\", inplace=True)"
   ]
  },
  {
   "cell_type": "code",
   "execution_count": 170,
   "metadata": {},
   "outputs": [],
   "source": [
    "main_df[\"id_01\"].fillna(main_df[\"id_01\"].median(), inplace=True)\n",
    "main_df[\"id_02\"].fillna(main_df[\"id_02\"].median(), inplace=True)\n",
    "main_df[\"id_03\"].fillna(main_df[\"id_03\"].median(), inplace=True)\n",
    "main_df[\"id_04\"].fillna(main_df[\"id_04\"].median(), inplace=True)\n",
    "main_df[\"id_05\"].fillna(main_df[\"id_05\"].median(), inplace=True)\n",
    "main_df[\"id_06\"].fillna(main_df[\"id_06\"].median(), inplace=True)\n",
    "main_df[\"id_09\"].fillna(main_df[\"id_09\"].median(), inplace=True)\n",
    "main_df[\"id_10\"].fillna(main_df[\"id_10\"].median(), inplace=True)\n",
    "main_df[\"id_11\"].fillna(main_df[\"id_11\"].median(), inplace=True)\n",
    "main_df[\"id_13\"].fillna(main_df[\"id_13\"].median(), inplace=True)\n",
    "main_df[\"id_14\"].fillna(main_df[\"id_14\"].median(), inplace=True)\n",
    "main_df[\"id_17\"].fillna(main_df[\"id_17\"].median(), inplace=True)\n",
    "main_df[\"id_18\"].fillna(main_df[\"id_18\"].median(), inplace=True)\n",
    "main_df[\"id_19\"].fillna(main_df[\"id_19\"].median(), inplace=True)\n",
    "main_df[\"id_20\"].fillna(main_df[\"id_20\"].median(), inplace=True)\n",
    "main_df[\"id_32\"].fillna(main_df[\"id_32\"].median(), inplace=True)"
   ]
  },
  {
   "cell_type": "code",
   "execution_count": 171,
   "metadata": {},
   "outputs": [],
   "source": [
    "main_df[\"id_15\"].fillna(\"Unknown\", inplace=True)\n",
    "main_df[\"id_16\"].fillna(\"Unknown\", inplace=True)\n",
    "main_df[\"id_28\"].fillna(\"Unknown\", inplace=True)\n",
    "main_df[\"id_29\"].fillna(\"Unknown\", inplace=True)\n",
    "main_df[\"id_30\"].fillna(\"Windows 10\", inplace=True)\n",
    "main_df[\"id_35\"].fillna(\"None\", inplace=True)\n",
    "main_df[\"id_36\"].fillna(\"F\", inplace=True)\n",
    "main_df[\"id_37\"].fillna(\"T\", inplace=True)"
   ]
  },
  {
   "cell_type": "markdown",
   "metadata": {},
   "source": [
    "#### For Vxxx feature"
   ]
  },
  {
   "cell_type": "markdown",
   "metadata": {},
   "source": [
    "If more outliers than replace by median\n",
    "\n",
    "If less outliers replace by mean"
   ]
  },
  {
   "cell_type": "code",
   "execution_count": 173,
   "metadata": {},
   "outputs": [],
   "source": [
    "main_df[\"V94\"].fillna(main_df[\"V94\"].median(), inplace=True)"
   ]
  },
  {
   "cell_type": "code",
   "execution_count": 174,
   "metadata": {},
   "outputs": [],
   "source": [
    "main_df[\"V93\"].fillna(main_df[\"V93\"].median(), inplace=True)\n",
    "main_df[\"V94\"].fillna(main_df[\"V94\"].median(), inplace=True)\n",
    "main_df[\"V92\"].fillna(main_df[\"V92\"].median(), inplace=True)\n",
    "main_df[\"V91\"].fillna(main_df[\"V91\"].median(), inplace=True)\n",
    "main_df[\"V90\"].fillna(main_df[\"V90\"].median(), inplace=True)"
   ]
  },
  {
   "cell_type": "code",
   "execution_count": 175,
   "metadata": {},
   "outputs": [],
   "source": [
    "main_df[\"V89\"].fillna(main_df[\"V89\"].median(), inplace=True)\n",
    "main_df[\"V88\"].fillna(main_df[\"V88\"].median(), inplace=True)\n",
    "main_df[\"V87\"].fillna(main_df[\"V87\"].median(), inplace=True)\n",
    "main_df[\"V86\"].fillna(main_df[\"V86\"].median(), inplace=True)\n",
    "main_df[\"V85\"].fillna(main_df[\"V85\"].median(), inplace=True)"
   ]
  },
  {
   "cell_type": "code",
   "execution_count": 176,
   "metadata": {},
   "outputs": [],
   "source": [
    "main_df[\"V84\"].fillna(main_df[\"V84\"].median(), inplace=True)\n",
    "main_df[\"V83\"].fillna(main_df[\"V83\"].median(), inplace=True)\n",
    "main_df[\"V82\"].fillna(main_df[\"V82\"].median(), inplace=True)\n",
    "main_df[\"V81\"].fillna(main_df[\"V81\"].median(), inplace=True)\n",
    "main_df[\"V80\"].fillna(main_df[\"V80\"].median(), inplace=True)"
   ]
  },
  {
   "cell_type": "code",
   "execution_count": null,
   "metadata": {},
   "outputs": [],
   "source": [
    "main_df[\"V79\"].fillna(main_df[\"V79\"].median(), inplace=True)\n",
    "main_df[\"V78\"].fillna(main_df[\"V78\"].median(), inplace=True)\n",
    "main_df[\"V77\"].fillna(main_df[\"V77\"].median(), inplace=True)\n",
    "main_df[\"V76\"].fillna(main_df[\"V76\"].median(), inplace=True)\n",
    "main_df[\"V75\"].fillna(main_df[\"V75\"].median(), inplace=True)"
   ]
  },
  {
   "cell_type": "code",
   "execution_count": null,
   "metadata": {},
   "outputs": [],
   "source": [
    "main_df[\"V74\"].fillna(main_df[\"V74\"].median(), inplace=True)\n",
    "main_df[\"V73\"].fillna(main_df[\"V73\"].median(), inplace=True)\n",
    "main_df[\"V72\"].fillna(main_df[\"V72\"].median(), inplace=True)\n",
    "main_df[\"V71\"].fillna(main_df[\"V71\"].median(), inplace=True)\n",
    "main_df[\"V70\"].fillna(main_df[\"V70\"].median(), inplace=True)"
   ]
  },
  {
   "cell_type": "code",
   "execution_count": null,
   "metadata": {},
   "outputs": [],
   "source": [
    "main_df[\"V69\"].fillna(main_df[\"V69\"].median(), inplace=True)\n",
    "main_df[\"V68\"].fillna(main_df[\"V68\"].median(), inplace=True)\n",
    "main_df[\"V67\"].fillna(main_df[\"V67\"].median(), inplace=True)\n",
    "main_df[\"V66\"].fillna(main_df[\"V66\"].median(), inplace=True)\n",
    "main_df[\"V65\"].fillna(main_df[\"V65\"].median(), inplace=True)"
   ]
  },
  {
   "cell_type": "code",
   "execution_count": null,
   "metadata": {},
   "outputs": [],
   "source": [
    "main_df[\"V64\"].fillna(main_df[\"V64\"].median(), inplace=True)\n",
    "main_df[\"V63\"].fillna(main_df[\"V63\"].median(), inplace=True)\n",
    "main_df[\"V62\"].fillna(main_df[\"V62\"].median(), inplace=True)\n",
    "main_df[\"V61\"].fillna(main_df[\"V61\"].median(), inplace=True)\n",
    "main_df[\"V60\"].fillna(main_df[\"V60\"].median(), inplace=True)"
   ]
  },
  {
   "cell_type": "code",
   "execution_count": null,
   "metadata": {},
   "outputs": [],
   "source": [
    "main_df[\"V59\"].fillna(main_df[\"V59\"].median(), inplace=True)\n",
    "main_df[\"V58\"].fillna(main_df[\"V58\"].median(), inplace=True)\n",
    "main_df[\"V57\"].fillna(main_df[\"V57\"].median(), inplace=True)\n",
    "main_df[\"V56\"].fillna(main_df[\"V56\"].median(), inplace=True)\n",
    "main_df[\"V55\"].fillna(main_df[\"V55\"].median(), inplace=True)"
   ]
  },
  {
   "cell_type": "code",
   "execution_count": null,
   "metadata": {},
   "outputs": [],
   "source": [
    "main_df[\"V54\"].fillna(main_df[\"V54\"].median(), inplace=True)\n",
    "main_df[\"V53\"].fillna(main_df[\"V53\"].median(), inplace=True)"
   ]
  },
  {
   "cell_type": "code",
   "execution_count": null,
   "metadata": {},
   "outputs": [],
   "source": [
    "main_df[\"V34\"].fillna(main_df[\"V34\"].median(), inplace=True)\n",
    "main_df[\"V33\"].fillna(main_df[\"V33\"].median(), inplace=True)\n",
    "main_df[\"V32\"].fillna(main_df[\"V32\"].median(), inplace=True)\n",
    "main_df[\"V31\"].fillna(main_df[\"V31\"].median(), inplace=True)\n",
    "main_df[\"V30\"].fillna(main_df[\"V30\"].median(), inplace=True)"
   ]
  },
  {
   "cell_type": "code",
   "execution_count": null,
   "metadata": {},
   "outputs": [],
   "source": [
    "main_df[\"V29\"].fillna(main_df[\"V29\"].median(), inplace=True)\n",
    "main_df[\"V28\"].fillna(main_df[\"V28\"].median(), inplace=True)\n",
    "main_df[\"V27\"].fillna(main_df[\"V27\"].median(), inplace=True)\n",
    "main_df[\"V26\"].fillna(main_df[\"V26\"].median(), inplace=True)\n",
    "main_df[\"V25\"].fillna(main_df[\"V25\"].median(), inplace=True)"
   ]
  },
  {
   "cell_type": "code",
   "execution_count": null,
   "metadata": {},
   "outputs": [],
   "source": [
    "main_df[\"V24\"].fillna(main_df[\"V24\"].median(), inplace=True)\n",
    "main_df[\"V23\"].fillna(main_df[\"V23\"].median(), inplace=True)\n",
    "main_df[\"V22\"].fillna(main_df[\"V22\"].median(), inplace=True)\n",
    "main_df[\"V21\"].fillna(main_df[\"V21\"].median(), inplace=True)\n",
    "main_df[\"V20\"].fillna(main_df[\"V20\"].median(), inplace=True)"
   ]
  },
  {
   "cell_type": "code",
   "execution_count": null,
   "metadata": {},
   "outputs": [],
   "source": [
    "main_df[\"V19\"].fillna(main_df[\"V19\"].median(), inplace=True)\n",
    "main_df[\"V18\"].fillna(main_df[\"V18\"].median(), inplace=True)\n",
    "main_df[\"V17\"].fillna(main_df[\"V17\"].median(), inplace=True)\n",
    "main_df[\"V16\"].fillna(main_df[\"V16\"].median(), inplace=True)\n",
    "main_df[\"V15\"].fillna(main_df[\"V15\"].median(), inplace=True)\n",
    "main_df[\"V14\"].fillna(main_df[\"V14\"].median(), inplace=True)\n",
    "main_df[\"V13\"].fillna(main_df[\"V13\"].median(), inplace=True)\n",
    "main_df[\"V12\"].fillna(main_df[\"V12\"].median(), inplace=True)"
   ]
  },
  {
   "cell_type": "markdown",
   "metadata": {},
   "source": [
    "### Label encoding"
   ]
  },
  {
   "cell_type": "code",
   "execution_count": 190,
   "metadata": {},
   "outputs": [],
   "source": [
    "le = LabelEncoder()"
   ]
  },
  {
   "attachments": {},
   "cell_type": "markdown",
   "metadata": {},
   "source": [
    "Label encoding the features with high unique values so that the number of features does not increate drastically"
   ]
  },
  {
   "cell_type": "code",
   "execution_count": 192,
   "metadata": {},
   "outputs": [],
   "source": [
    "main_df['id_30'] = le.fit_transform(main_df['id_30'])\n",
    "main_df['R_emaildomain'] = le.fit_transform(main_df['R_emaildomain'])\n",
    "main_df['P_emaildomain'] = le.fit_transform(main_df['P_emaildomain'])"
   ]
  },
  {
   "cell_type": "markdown",
   "metadata": {},
   "source": [
    "### One-Hot encoding"
   ]
  },
  {
   "cell_type": "code",
   "execution_count": 228,
   "metadata": {},
   "outputs": [],
   "source": [
    "column_names_to_one_hot = [\"ProductCD\", \"card4\", \"card6\", \"M1\", \"M2\", \"M4\", \"M5\", \"M6\", \"M7\", \"id_15\", \"id_16\", \"id_28\", \"id_29\", \"id_35\", \"id_36\", \"id_37\", \"device_name\"]"
   ]
  },
  {
   "cell_type": "code",
   "execution_count": 229,
   "metadata": {},
   "outputs": [],
   "source": [
    "main_df = pd.get_dummies(main_df, columns=column_names_to_one_hot)"
   ]
  },
  {
   "cell_type": "code",
   "execution_count": 230,
   "metadata": {},
   "outputs": [
    {
     "data": {
      "text/html": [
       "<div>\n",
       "<style scoped>\n",
       "    .dataframe tbody tr th:only-of-type {\n",
       "        vertical-align: middle;\n",
       "    }\n",
       "\n",
       "    .dataframe tbody tr th {\n",
       "        vertical-align: top;\n",
       "    }\n",
       "\n",
       "    .dataframe thead th {\n",
       "        text-align: right;\n",
       "    }\n",
       "</style>\n",
       "<table border=\"1\" class=\"dataframe\">\n",
       "  <thead>\n",
       "    <tr style=\"text-align: right;\">\n",
       "      <th></th>\n",
       "      <th>TransactionAmt</th>\n",
       "      <th>card1</th>\n",
       "      <th>card2</th>\n",
       "      <th>card3</th>\n",
       "      <th>card5</th>\n",
       "      <th>addr1</th>\n",
       "      <th>addr2</th>\n",
       "      <th>dist1</th>\n",
       "      <th>C1</th>\n",
       "      <th>C2</th>\n",
       "      <th>...</th>\n",
       "      <th>id_29_Found</th>\n",
       "      <th>id_29_NotFound</th>\n",
       "      <th>id_29_Unknown</th>\n",
       "      <th>id_35_F</th>\n",
       "      <th>id_35_None</th>\n",
       "      <th>id_35_T</th>\n",
       "      <th>id_36_F</th>\n",
       "      <th>id_36_T</th>\n",
       "      <th>id_37_F</th>\n",
       "      <th>id_37_T</th>\n",
       "    </tr>\n",
       "  </thead>\n",
       "  <tbody>\n",
       "    <tr>\n",
       "      <th>0</th>\n",
       "      <td>325.000</td>\n",
       "      <td>12932</td>\n",
       "      <td>361.0</td>\n",
       "      <td>150.0</td>\n",
       "      <td>226.0</td>\n",
       "      <td>126.0</td>\n",
       "      <td>87.0</td>\n",
       "      <td>24.0</td>\n",
       "      <td>3.0</td>\n",
       "      <td>1.0</td>\n",
       "      <td>...</td>\n",
       "      <td>0</td>\n",
       "      <td>0</td>\n",
       "      <td>1</td>\n",
       "      <td>0</td>\n",
       "      <td>1</td>\n",
       "      <td>0</td>\n",
       "      <td>1</td>\n",
       "      <td>0</td>\n",
       "      <td>0</td>\n",
       "      <td>1</td>\n",
       "    </tr>\n",
       "    <tr>\n",
       "      <th>1</th>\n",
       "      <td>37.257</td>\n",
       "      <td>14276</td>\n",
       "      <td>177.0</td>\n",
       "      <td>185.0</td>\n",
       "      <td>137.0</td>\n",
       "      <td>299.0</td>\n",
       "      <td>87.0</td>\n",
       "      <td>8.0</td>\n",
       "      <td>0.0</td>\n",
       "      <td>1.0</td>\n",
       "      <td>...</td>\n",
       "      <td>0</td>\n",
       "      <td>1</td>\n",
       "      <td>0</td>\n",
       "      <td>1</td>\n",
       "      <td>0</td>\n",
       "      <td>0</td>\n",
       "      <td>1</td>\n",
       "      <td>0</td>\n",
       "      <td>0</td>\n",
       "      <td>1</td>\n",
       "    </tr>\n",
       "    <tr>\n",
       "      <th>2</th>\n",
       "      <td>100.000</td>\n",
       "      <td>16506</td>\n",
       "      <td>554.0</td>\n",
       "      <td>150.0</td>\n",
       "      <td>226.0</td>\n",
       "      <td>299.0</td>\n",
       "      <td>87.0</td>\n",
       "      <td>8.0</td>\n",
       "      <td>1.0</td>\n",
       "      <td>1.0</td>\n",
       "      <td>...</td>\n",
       "      <td>0</td>\n",
       "      <td>1</td>\n",
       "      <td>0</td>\n",
       "      <td>0</td>\n",
       "      <td>0</td>\n",
       "      <td>1</td>\n",
       "      <td>1</td>\n",
       "      <td>0</td>\n",
       "      <td>0</td>\n",
       "      <td>1</td>\n",
       "    </tr>\n",
       "    <tr>\n",
       "      <th>3</th>\n",
       "      <td>57.950</td>\n",
       "      <td>9500</td>\n",
       "      <td>321.0</td>\n",
       "      <td>150.0</td>\n",
       "      <td>226.0</td>\n",
       "      <td>441.0</td>\n",
       "      <td>87.0</td>\n",
       "      <td>295.0</td>\n",
       "      <td>1.0</td>\n",
       "      <td>1.0</td>\n",
       "      <td>...</td>\n",
       "      <td>0</td>\n",
       "      <td>0</td>\n",
       "      <td>1</td>\n",
       "      <td>0</td>\n",
       "      <td>1</td>\n",
       "      <td>0</td>\n",
       "      <td>1</td>\n",
       "      <td>0</td>\n",
       "      <td>0</td>\n",
       "      <td>1</td>\n",
       "    </tr>\n",
       "    <tr>\n",
       "      <th>4</th>\n",
       "      <td>34.258</td>\n",
       "      <td>15885</td>\n",
       "      <td>545.0</td>\n",
       "      <td>185.0</td>\n",
       "      <td>138.0</td>\n",
       "      <td>284.0</td>\n",
       "      <td>60.0</td>\n",
       "      <td>8.0</td>\n",
       "      <td>1.0</td>\n",
       "      <td>1.0</td>\n",
       "      <td>...</td>\n",
       "      <td>0</td>\n",
       "      <td>0</td>\n",
       "      <td>1</td>\n",
       "      <td>0</td>\n",
       "      <td>1</td>\n",
       "      <td>0</td>\n",
       "      <td>1</td>\n",
       "      <td>0</td>\n",
       "      <td>0</td>\n",
       "      <td>1</td>\n",
       "    </tr>\n",
       "  </tbody>\n",
       "</table>\n",
       "<p>5 rows × 248 columns</p>\n",
       "</div>"
      ],
      "text/plain": [
       "   TransactionAmt  card1  card2  card3  card5  addr1  addr2  dist1   C1   C2  \\\n",
       "0         325.000  12932  361.0  150.0  226.0  126.0   87.0   24.0  3.0  1.0   \n",
       "1          37.257  14276  177.0  185.0  137.0  299.0   87.0    8.0  0.0  1.0   \n",
       "2         100.000  16506  554.0  150.0  226.0  299.0   87.0    8.0  1.0  1.0   \n",
       "3          57.950   9500  321.0  150.0  226.0  441.0   87.0  295.0  1.0  1.0   \n",
       "4          34.258  15885  545.0  185.0  138.0  284.0   60.0    8.0  1.0  1.0   \n",
       "\n",
       "   ...  id_29_Found  id_29_NotFound  id_29_Unknown  id_35_F  id_35_None  \\\n",
       "0  ...            0               0              1        0           1   \n",
       "1  ...            0               1              0        1           0   \n",
       "2  ...            0               1              0        0           0   \n",
       "3  ...            0               0              1        0           1   \n",
       "4  ...            0               0              1        0           1   \n",
       "\n",
       "   id_35_T  id_36_F  id_36_T  id_37_F  id_37_T  \n",
       "0        0        1        0        0        1  \n",
       "1        0        1        0        0        1  \n",
       "2        1        1        0        0        1  \n",
       "3        0        1        0        0        1  \n",
       "4        0        1        0        0        1  \n",
       "\n",
       "[5 rows x 248 columns]"
      ]
     },
     "execution_count": 230,
     "metadata": {},
     "output_type": "execute_result"
    }
   ],
   "source": [
    "main_df.head()"
   ]
  },
  {
   "cell_type": "markdown",
   "metadata": {},
   "source": [
    "### Seperating test-train data"
   ]
  },
  {
   "cell_type": "code",
   "execution_count": 231,
   "metadata": {},
   "outputs": [],
   "source": [
    "test_standard, train_standard = main_df[main_df[\"ind\"].eq(\"test\")], main_df[main_df[\"ind\"].eq(\"train\")]"
   ]
  },
  {
   "cell_type": "code",
   "execution_count": 232,
   "metadata": {},
   "outputs": [
    {
     "name": "stderr",
     "output_type": "stream",
     "text": [
      "C:\\Users\\Prem Shah\\AppData\\Local\\Temp\\ipykernel_16288\\3193864518.py:1: SettingWithCopyWarning: \n",
      "A value is trying to be set on a copy of a slice from a DataFrame\n",
      "\n",
      "See the caveats in the documentation: https://pandas.pydata.org/pandas-docs/stable/user_guide/indexing.html#returning-a-view-versus-a-copy\n",
      "  test_standard.drop(axis=\"columns\", labels=\"ind\", inplace=True)\n",
      "C:\\Users\\Prem Shah\\AppData\\Local\\Temp\\ipykernel_16288\\3193864518.py:2: SettingWithCopyWarning: \n",
      "A value is trying to be set on a copy of a slice from a DataFrame\n",
      "\n",
      "See the caveats in the documentation: https://pandas.pydata.org/pandas-docs/stable/user_guide/indexing.html#returning-a-view-versus-a-copy\n",
      "  train_standard.drop(axis=\"columns\", labels=\"ind\", inplace=True)\n"
     ]
    }
   ],
   "source": [
    "test_standard.drop(axis=\"columns\", labels=\"ind\", inplace=True)\n",
    "train_standard.drop(axis=\"columns\", labels=\"ind\", inplace=True)"
   ]
  },
  {
   "attachments": {},
   "cell_type": "markdown",
   "metadata": {},
   "source": [
    "Storing pre-processed data as csv files"
   ]
  },
  {
   "cell_type": "code",
   "execution_count": null,
   "metadata": {},
   "outputs": [],
   "source": [
    "train_standard.to_csv('pre-processed_train.csv', index=False)\n",
    "test_standard.to_csv('pre_precessed_test.csv', index=False)"
   ]
  },
  {
   "cell_type": "markdown",
   "metadata": {},
   "source": [
    "### Splitting into feature and target columns"
   ]
  },
  {
   "cell_type": "code",
   "execution_count": 233,
   "metadata": {},
   "outputs": [],
   "source": [
    "X_train = train_standard.drop(axis=\"columns\", labels=\"isFraud\").to_numpy().astype(np.float64)\n",
    "y_train = train_standard[\"isFraud\"].to_numpy().astype(np.float64)\n",
    "X_test = test_standard.drop(axis=\"columns\", labels=\"isFraud\").to_numpy().astype(np.float64)"
   ]
  },
  {
   "cell_type": "markdown",
   "metadata": {},
   "source": [
    "# Re-Sampling"
   ]
  },
  {
   "cell_type": "code",
   "execution_count": 234,
   "metadata": {},
   "outputs": [],
   "source": [
    "from imblearn.pipeline import Pipeline\n",
    "from imblearn.over_sampling import SMOTE\n",
    "from imblearn.under_sampling import RandomUnderSampler\n",
    "from imblearn.over_sampling import RandomOverSampler"
   ]
  },
  {
   "attachments": {},
   "cell_type": "markdown",
   "metadata": {},
   "source": [
    "Our dataset is highly imbalanced, so we need to make a balance between number of fraud transaction data and non-fraud transaction data"
   ]
  },
  {
   "cell_type": "code",
   "execution_count": 235,
   "metadata": {},
   "outputs": [],
   "source": [
    "over = RandomOverSampler(sampling_strategy=0.1)\n",
    "under = RandomUnderSampler(sampling_strategy=0.5)"
   ]
  },
  {
   "cell_type": "code",
   "execution_count": 236,
   "metadata": {},
   "outputs": [],
   "source": [
    "pipeline = Pipeline(steps=[('o', over), ('u', under)])\n",
    "train_X_re, train_y_re = pipeline.fit_resample(X_train, y_train)"
   ]
  },
  {
   "cell_type": "code",
   "execution_count": 220,
   "metadata": {},
   "outputs": [
    {
     "data": {
      "text/plain": [
       "((128220,), (128220, 258))"
      ]
     },
     "execution_count": 220,
     "metadata": {},
     "output_type": "execute_result"
    }
   ],
   "source": [
    "train_y_re.shape, train_X_re.shape"
   ]
  },
  {
   "cell_type": "code",
   "execution_count": 237,
   "metadata": {},
   "outputs": [
    {
     "name": "stdout",
     "output_type": "stream",
     "text": [
      "dict_keys([0.0, 1.0])\n",
      "dict_values([427408, 15497])\n"
     ]
    }
   ],
   "source": [
    "print(Counter(y_train).keys())\n",
    "print(Counter(y_train).values())"
   ]
  },
  {
   "cell_type": "markdown",
   "metadata": {},
   "source": [
    "Ratio: 0.03625 of fraud to non fraud"
   ]
  },
  {
   "cell_type": "code",
   "execution_count": 222,
   "metadata": {},
   "outputs": [
    {
     "name": "stdout",
     "output_type": "stream",
     "text": [
      "dict_keys([0.0, 1.0])\n",
      "dict_values([85480, 42740])\n"
     ]
    }
   ],
   "source": [
    "print(Counter(train_y_re).keys())\n",
    "print(Counter(train_y_re).values())"
   ]
  },
  {
   "cell_type": "markdown",
   "metadata": {},
   "source": [
    "Ratio: 0.5 of fraud to non fraud"
   ]
  }
 ],
 "metadata": {
  "kernelspec": {
   "display_name": "Python 3.10.7 64-bit",
   "language": "python",
   "name": "python3"
  },
  "language_info": {
   "codemirror_mode": {
    "name": "ipython",
    "version": 3
   },
   "file_extension": ".py",
   "mimetype": "text/x-python",
   "name": "python",
   "nbconvert_exporter": "python",
   "pygments_lexer": "ipython3",
   "version": "3.10.7 (tags/v3.10.7:6cc6b13, Sep  5 2022, 14:08:36) [MSC v.1933 64 bit (AMD64)]"
  },
  "orig_nbformat": 4,
  "vscode": {
   "interpreter": {
    "hash": "66dcaebaf80c3572e9a8f15497ad6763f8d1c3f336e35181e378723289e6b814"
   }
  }
 },
 "nbformat": 4,
 "nbformat_minor": 2
}
